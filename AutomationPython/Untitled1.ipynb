{
 "cells": [
  {
   "cell_type": "code",
   "execution_count": 8,
   "id": "82c86e10",
   "metadata": {},
   "outputs": [],
   "source": [
    "from bs4 import BeautifulSoup\n",
    "import requests"
   ]
  },
  {
   "cell_type": "code",
   "execution_count": 9,
   "id": "cdf80712",
   "metadata": {},
   "outputs": [],
   "source": [
    "def get_text_only(url):\n",
    "    page=requests.get(url)\n",
    "    soup=BeautifulSoup(page.content, 'lxml')\n",
    "    text=' '.join(map(lambda p: p.text, soup.find_all('p')))\n",
    "    title=' '.join(soup.title.stripped_strings)\n",
    "    return title, text"
   ]
  },
  {
   "cell_type": "code",
   "execution_count": 10,
   "id": "7404344f",
   "metadata": {},
   "outputs": [],
   "source": [
    "text=get_text_only(\"https://www.vox.com/culture/2022/10/4/23388000/angelina-jolie-brad-pitt-physical-domestic-abuse-allegations\")"
   ]
  },
  {
   "cell_type": "code",
   "execution_count": 11,
   "id": "194664ac",
   "metadata": {},
   "outputs": [
    {
     "name": "stdout",
     "output_type": "stream",
     "text": [
      "('Angelina Jolie claims Brad Pitt physically abused her and their children in a new court filing - Vox', 'A new court filing alleges physical violence against his children for the first time. It’s been over six years since Angelia Jolie filed for divorce from Brad Pitt, but new disturbing allegations regarding Pitt’s behavior have only just emerged. Jolie filed a new complaint against Pitt in regards to a legal dispute over their wine company, and in it she details physically abusive behavior toward her and their children.  In the countersuit, Jolie alleges that, on a private flight from Nice, France, to the United States in September 2016, “Pitt choked one of the children and struck another in the face” and “grabbed Jolie by the head and shook her.” According to the New York Times, the complaint also alleges that Pitt poured beer on Jolie and also poured beer and red wine on the children. We want to get to know you better — and learn what your needs are. Take Vox’s survey here. Back in 2016, Jolie filed for divorce six days after that flight, citing irreconcilable differences. Shortly after filing, rumors and reports surfaced that Pitt was being investigated for child abuse, possibly connected to his alcohol use. Since it was a private flight, the FBI had jurisdiction and investigated what happened on the plane. The organization cleared Pitt later that year. In April 2022, an anonymous suit was brought against the FBI to release its findings, later revealed to have been filed by Jolie. Those documents were obtained by news outlets in August. In those records, Jolie told FBI authorities that Pitt “grabbed her by her head” and “pushed her into the bathroom wall.”  During the investigation, Jolie submitted photographs of injuries she said she obtained during the incident, which were later obtained by tabloids. Despite this, the FBI stated that it did not find any wrongdoing on Pitt’s behalf. The organization stated: “It was agreed by all parties that criminal charges in this case would not be pursued due to several factors.” Pitt and Jolie first got together in 2005, after co-starring in the film Mr. and Mrs. Smith. At the time of filming, Pitt was still married to Friends star Jennifer Aniston. The couple dominated tabloid headlines for years, finally marrying in 2014. Since Jolie filed for divorce in 2016, she and Pitt have been embroiled in a series of legal disputes and custody hearings. Their breakup has been shrouded in some degree of mystery, with battles fought in the press.  After the accusations about his drinking and rumored abusive behavior surfaced, Pitt told GQ in 2016 that he had given up drinking. In 2018, Jolie filed a legal complaint accusing Pitt of not paying “meaningful” child support. In 2019, they were granted a dissolution of their marriage.   Jolie and Pitt have spent much of 2022 in a dispute over the Château Miraval vineyard they once co-owned (Jolie sold her interest in the vineyard to Russian oligarch Yuri Shefler without Pitt’s approval). According to Jolie’s lawyers, one of the conditions during Jolie and Pitt’s negotiations was that he wanted her to sign a nondisclosure agreement, one that wouldn’t have allowed her to speak about his alleged abusive behavior.  The two are also still in a custody battle; four of their six children — Zahara, Shiloh, and twins Vivienne and Knox — are all under the age of 18. Pitt recently lamented about heartbreak in a June cover story with British GQ.  Neither Pitt nor his lawyers have responded to Jolie’s newly filed complaint. It remains to be seen what effect these allegations will have on Pitt’s career; until now, rumors and allegations have had seemingly little impact on his public reception. This escalation feels different, but even in the post-Me Too era, as Constance Grady explained during the Johnny Depp/Amber Heard trial, greater scrutiny of celebrities has resulted in little blowback for A-list male stars.   Our goal this month \\n    Now is not the time for paywalls. Now is the time to point out what’s hidden in plain sight (for instance, the hundreds of election deniers on ballots across the country), clearly explain the answers to voters’ questions, and give people the tools they need to be active participants in America’s democracy.  Reader gifts help keep our well-sourced, research-driven explanatory journalism free for everyone. By the end of September, we’re aiming to add 5,000 new financial contributors to our community of Vox supporters.  Will you help us reach our goal by making a gift today?\\r\\n\\n Understand how policy impacts people. Delivered Fridays. Check your inbox for a welcome email. Oops. Something went wrong. Please enter a valid email and try again.')\n"
     ]
    }
   ],
   "source": [
    "print(text)"
   ]
  },
  {
   "cell_type": "code",
   "execution_count": 12,
   "id": "cf2ff585",
   "metadata": {},
   "outputs": [
    {
     "data": {
      "text/plain": [
       "766"
      ]
     },
     "execution_count": 12,
     "metadata": {},
     "output_type": "execute_result"
    }
   ],
   "source": [
    "len(str.split(text[1]))"
   ]
  },
  {
   "cell_type": "code",
   "execution_count": 15,
   "id": "4d1ab8cd",
   "metadata": {},
   "outputs": [
    {
     "name": "stdout",
     "output_type": "stream",
     "text": [
      "Title:Angelina Jolie claims Brad Pitt physically abused her and their children in a new court filing - Vox\n"
     ]
    }
   ],
   "source": [
    "print(\"Title:\"+text[0])\n"
   ]
  },
  {
   "cell_type": "code",
   "execution_count": 16,
   "id": "325e4a4a",
   "metadata": {},
   "outputs": [],
   "source": [
    "import gensim"
   ]
  },
  {
   "cell_type": "code",
   "execution_count": 17,
   "id": "7c5ad0d1",
   "metadata": {},
   "outputs": [
    {
     "ename": "AttributeError",
     "evalue": "module 'gensim' has no attribute 'summarize'",
     "output_type": "error",
     "traceback": [
      "\u001b[1;31m---------------------------------------------------------------------------\u001b[0m",
      "\u001b[1;31mAttributeError\u001b[0m                            Traceback (most recent call last)",
      "Cell \u001b[1;32mIn [17], line 1\u001b[0m\n\u001b[1;32m----> 1\u001b[0m \u001b[38;5;28mprint\u001b[39m(gensim\u001b[38;5;241m.\u001b[39msummarize(\u001b[38;5;28mrepr\u001b[39m(text), word_count\u001b[38;5;241m=\u001b[39m\u001b[38;5;241m100\u001b[39m))\n",
      "\u001b[1;31mAttributeError\u001b[0m: module 'gensim' has no attribute 'summarize'"
     ]
    }
   ],
   "source": [
    "print(gensim.summarize(repr(text), word_count=100))"
   ]
  },
  {
   "cell_type": "code",
   "execution_count": null,
   "id": "3fc3ded3",
   "metadata": {},
   "outputs": [],
   "source": []
  }
 ],
 "metadata": {
  "kernelspec": {
   "display_name": "Python 3 (ipykernel)",
   "language": "python",
   "name": "python3"
  },
  "language_info": {
   "codemirror_mode": {
    "name": "ipython",
    "version": 3
   },
   "file_extension": ".py",
   "mimetype": "text/x-python",
   "name": "python",
   "nbconvert_exporter": "python",
   "pygments_lexer": "ipython3",
   "version": "3.10.7"
  }
 },
 "nbformat": 4,
 "nbformat_minor": 5
}
